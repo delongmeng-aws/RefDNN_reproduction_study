{
 "cells": [
  {
   "cell_type": "markdown",
   "id": "a3502b0b",
   "metadata": {},
   "source": [
    "This notebooks shows some details within the RefDNN model. CCLE dataset is used as an example here."
   ]
  },
  {
   "cell_type": "code",
   "execution_count": 1,
   "id": "51f610ec",
   "metadata": {},
   "outputs": [],
   "source": [
    "# import libraries\n",
    "import os\n",
    "import math\n",
    "import numpy as np\n",
    "import pandas as pd\n",
    "import skopt\n",
    "from datetime import datetime\n",
    "import time\n",
    "from sklearn.metrics import accuracy_score, average_precision_score, roc_auc_score, precision_score, recall_score, f1_score\n",
    "from sklearn.model_selection import StratifiedKFold, train_test_split\n",
    "from refdnn.model import REFDNN\n",
    "from refdnn.dataset import DATASET\n",
    "from scipy.spatial.distance import pdist, squareform\n",
    "import tensorflow as tf"
   ]
  },
  {
   "cell_type": "code",
   "execution_count": 2,
   "id": "5968dc1c",
   "metadata": {},
   "outputs": [],
   "source": [
    "os.environ['TF_CPP_MIN_VLOG_LEVEL'] = '1'\n",
    "os.environ['TF_CPP_MIN_LOG_LEVEL'] = '1'"
   ]
  },
  {
   "cell_type": "code",
   "execution_count": 3,
   "id": "f4c1ff2a",
   "metadata": {},
   "outputs": [],
   "source": [
    "# key arguments\n",
    "\n",
    "global outputdir\n",
    "global checkpointdir\n",
    "global verbose\n",
    "\n",
    "# A filepath of drug response data for TRAINING\n",
    "responseFile = 'data/response_CCLE.csv'          \n",
    "# A filepath of gene expression data for TRAINING\n",
    "expressionFile = 'data/expression_CCLE.csv'       \n",
    "# A filepath of fingerprint data for TRAINING\n",
    "fingerprintFile = 'data/fingerprint_CCLE.csv'      \n",
    "# A directory path for saving outputs (default:'output_1')\n",
    "outputdir = 'output_2_CCLE'         \n",
    "# A size of batch on training process. The small size is recommended if an available size of RAM is small (default: 64)\n",
    "batchsize = 32 #b        \n",
    "# Number of training steps on training process. It is recommended that the steps is larger than (numpairs /batchsize) (default: 5000)\n",
    "numtrainingsteps  = 1000 #t\n",
    "# Number of bayesian search for hyperparameter tuning (default: 20)\n",
    "numbayesiansearch = 10 #s\n",
    "# K for outer k-fold cross validation (default: 5)\n",
    "outerkfold = 5 # k        \n",
    "# L for inner l-fold cross validation (default: 3)\n",
    "innerkfold = 3 # l       \n",
    "# 0:No logging, 1:Basic logging to check process, 2:Full logging for debugging (default:1)\n",
    "verbose = 2 # v         "
   ]
  },
  {
   "cell_type": "code",
   "execution_count": 4,
   "id": "e0d5e152",
   "metadata": {},
   "outputs": [],
   "source": [
    "# input data files:\n",
    "\n",
    "# A filepath of drug response data for TRAINING\n",
    "response = pd.read_csv(responseFile)        \n",
    "# A filepath of gene expression data for TRAINING\n",
    "expression = pd.read_csv(expressionFile) \n",
    "# A filepath of fingerprint data for TRAINING\n",
    "fingerprint = pd.read_csv(fingerprintFile) "
   ]
  },
  {
   "cell_type": "code",
   "execution_count": 14,
   "id": "cd271530",
   "metadata": {},
   "outputs": [],
   "source": [
    "# the DATASET class\n",
    "\n",
    "class DATASET:\n",
    "    def __init__(self, drfile, gefile, fpfile):\n",
    "        ## 1. Read data\n",
    "        ## 1-1) Gene expression\n",
    "        self.ge = pd.read_csv(gefile, sep=',', index_col=0)\n",
    "        ## 1-2) Drug response\n",
    "        self.dr = pd.read_csv(drfile, sep=',', dtype='str')\n",
    "        self.DRUGKEY = self.dr.columns[0]\n",
    "        self.CELLKEY = self.dr.columns[1]\n",
    "        self.LABELKEY = self.dr.columns[2]\n",
    "        ## 1-3) Fingerprint\n",
    "        self.fp = pd.read_csv(fpfile, sep=',', index_col=0).transpose()\n",
    "        \n",
    "        ## 2. Preprocessing\n",
    "        ## 2-1) Find targets\n",
    "        target_drugs = self._find_target_drugs()\n",
    "        target_cells = self._find_target_cells()\n",
    "        ## 2-2) Filter data\n",
    "        self.ge = self.ge.filter(target_cells)\n",
    "        self.dr = self.dr[self._get_target_idx(target_drugs, target_cells)]\n",
    "        ## 2-3) Label string to integer\n",
    "        idx = self.dr[self.LABELKEY] == 'Resistance'\n",
    "        self.dr[self.LABELKEY][idx] = 1\n",
    "        self.dr[self.LABELKEY][~idx] = 0\n",
    "        self.dr[self.LABELKEY] = self.dr[self.LABELKEY].astype(np.uint8)\n",
    "        \n",
    "        ## 3. Structural Similarity Profile\n",
    "        self.SSP = self._make_SSP()\n",
    "\n",
    "    def __len__(self):\n",
    "        return len(self.dr)\n",
    "        \n",
    "    def get_drugs(self, unique=False):\n",
    "        return self._get_series(self.DRUGKEY, unique)\n",
    "        \n",
    "    def get_cells(self, unique=False):\n",
    "        return self._get_series(self.CELLKEY, unique)\n",
    "        \n",
    "    def get_labels(self, unique=False):\n",
    "        return self._get_series(self.LABELKEY, unique)\n",
    "        \n",
    "    def get_genes(self):\n",
    "        return self.ge.index.values\n",
    "        \n",
    "    def get_exprs(self):\n",
    "        return self.ge.values.T # per cell\n",
    "    \n",
    "    def make_xdata(self, idx=None):\n",
    "        if idx is None:\n",
    "            cells = self.get_cells()\n",
    "        else:\n",
    "            cells = self.get_cells()[idx]\n",
    "        return np.array([self.ge[cell].values for cell in cells], dtype=np.float32)\n",
    "    \n",
    "    def make_ydata(self, idx=None):\n",
    "        if idx is None:\n",
    "            labels = self.get_labels()\n",
    "        else:\n",
    "            labels = self.get_labels()[idx]\n",
    "        return np.expand_dims(np.array(labels, dtype=np.uint8), axis=-1)\n",
    "    \n",
    "    def make_sdata(self, base_drugs, idx=None):\n",
    "        SSP = self.SSP.filter(base_drugs, axis='index')\n",
    "        if idx is None:\n",
    "            drugs = self.get_drugs()\n",
    "        else:\n",
    "            drugs = self.get_drugs()[idx]\n",
    "        return np.array([SSP[drug].values for drug in drugs], dtype=np.float32)\n",
    "        \n",
    "    def make_idata(self, base_drugs, idx=None):\n",
    "        drug2idx = {drug:i for i, drug in enumerate(base_drugs)}\n",
    "        if idx is None:\n",
    "            drugs = self.get_drugs()\n",
    "        else:\n",
    "            drugs = self.get_drugs()[idx]\n",
    "        return np.array([drug2idx[drug] for drug in drugs], dtype=np.int64)\n",
    "    \n",
    "    def _make_SSP(self):\n",
    "        ssp_mat = 1. - squareform(pdist(self.fp.values.T, 'jaccard'))\n",
    "        return pd.DataFrame(ssp_mat, index=self.fp.columns, columns=self.fp.columns)\n",
    "        \n",
    "    def _get_series(self, KEY, unique):\n",
    "        if unique:\n",
    "            return np.sort(self.dr[KEY].unique(), kind='mergesort')\n",
    "        else:\n",
    "            return self.dr[KEY].values\n",
    "    \n",
    "    def _find_target_drugs(self):\n",
    "        target_drugs = []\n",
    "        self.drug2fp = {}\n",
    "        for drugname in self.dr[self.DRUGKEY].unique():\n",
    "            if drugname in self.fp:\n",
    "                target_drugs.append(drugname)\n",
    "                self.drug2fp[drugname] = self.fp[drugname].astype(np.uint8).astype(bool)\n",
    "        return target_drugs\n",
    "        \n",
    "    def _find_target_cells(self):\n",
    "        return self.ge.columns.intersection(self.dr[self.CELLKEY].unique())\n",
    "\n",
    "    def _get_target_idx(self, target_drugs, target_cells):\n",
    "        idx_drugs = self.dr[self.DRUGKEY].isin(target_drugs)\n",
    "        idx_cells = self.dr[self.CELLKEY].isin(target_cells)\n",
    "        return idx_drugs & idx_cells    "
   ]
  },
  {
   "cell_type": "markdown",
   "id": "603fde1c",
   "metadata": {},
   "source": [
    "We first read data into a DATASET instance:"
   ]
  },
  {
   "cell_type": "code",
   "execution_count": 15,
   "id": "75bf251d",
   "metadata": {},
   "outputs": [
    {
     "name": "stdout",
     "output_type": "stream",
     "text": [
      "[DATA] NUM_PAIRS: 5724\n",
      "[DATA] NUM_DRUGS: 12\n",
      "[DATA] NUM_CELLS: 491\n",
      "[DATA] NUM_GENES: 18926\n",
      "[DATA] NUM_SENSITIVITY: 2322\n",
      "[DATA] NUM_RESISTANCE: 3402\n"
     ]
    }
   ],
   "source": [
    "########################################################\n",
    "## 1. Read data\n",
    "########################################################    \n",
    "\n",
    "global dataset\n",
    "dataset = DATASET(responseFile, expressionFile, fingerprintFile)\n",
    "if verbose > 0:\n",
    "    print('[DATA] NUM_PAIRS: {}'.format(len(dataset)))\n",
    "    print('[DATA] NUM_DRUGS: {}'.format(len(dataset.get_drugs(unique=True))))\n",
    "    print('[DATA] NUM_CELLS: {}'.format(len(dataset.get_cells(unique=True))))\n",
    "    print('[DATA] NUM_GENES: {}'.format(len(dataset.get_genes())))\n",
    "    print('[DATA] NUM_SENSITIVITY: {}'.format(np.count_nonzero(dataset.get_labels()==0)))\n",
    "    print('[DATA] NUM_RESISTANCE: {}'.format(np.count_nonzero(dataset.get_labels()==1)))"
   ]
  },
  {
   "cell_type": "markdown",
   "id": "52920f4c",
   "metadata": {},
   "source": [
    "### Play with some methods of the DATASET class:"
   ]
  },
  {
   "cell_type": "code",
   "execution_count": 16,
   "id": "f6a3c008",
   "metadata": {},
   "outputs": [
    {
     "data": {
      "text/plain": [
       "array(['Erlotinib', 'Lapatinib', 'Nilotinib', 'Nutlin-3a (-)',\n",
       "       'PD0325901', 'PHA-665752', 'PLX-4720', 'Paclitaxel', 'Palbociclib',\n",
       "       'Selumetinib', 'Sorafenib', 'Tanespimycin'], dtype=object)"
      ]
     },
     "execution_count": 16,
     "metadata": {},
     "output_type": "execute_result"
    }
   ],
   "source": [
    "dataset.get_drugs(unique=True)"
   ]
  },
  {
   "cell_type": "code",
   "execution_count": 17,
   "id": "2265dd84",
   "metadata": {},
   "outputs": [
    {
     "data": {
      "text/plain": [
       "array(['Nilotinib', 'Nilotinib', 'Nilotinib', ..., 'Erlotinib',\n",
       "       'Erlotinib', 'Erlotinib'], dtype=object)"
      ]
     },
     "execution_count": 17,
     "metadata": {},
     "output_type": "execute_result"
    }
   ],
   "source": [
    "dataset.get_drugs()"
   ]
  },
  {
   "cell_type": "code",
   "execution_count": 18,
   "id": "b53166f3",
   "metadata": {},
   "outputs": [
    {
     "data": {
      "text/plain": [
       "array(['1321N1_CENTRAL_NERVOUS_SYSTEM', '22RV1_PROSTATE',\n",
       "       '42MGBA_CENTRAL_NERVOUS_SYSTEM', '5637_URINARY_TRACT',\n",
       "       '639V_URINARY_TRACT', '697_HAEMATOPOIETIC_AND_LYMPHOID_TISSUE',\n",
       "       '769P_KIDNEY', '786O_KIDNEY', '8305C_THYROID', '8505C_THYROID',\n",
       "       '8MGBA_CENTRAL_NERVOUS_SYSTEM', 'A172_CENTRAL_NERVOUS_SYSTEM',\n",
       "       'A204_SOFT_TISSUE', 'A2058_SKIN', 'A253_SALIVARY_GLAND',\n",
       "       'A2780_OVARY', 'A375_SKIN', 'A549_LUNG', 'A673_BONE',\n",
       "       'ACHN_KIDNEY', 'ALLSIL_HAEMATOPOIETIC_AND_LYMPHOID_TISSUE',\n",
       "       'AMO1_HAEMATOPOIETIC_AND_LYMPHOID_TISSUE', 'AN3CA_ENDOMETRIUM',\n",
       "       'ASPC1_PANCREAS', 'AU565_BREAST', 'AZ521_STOMACH', 'BCPAP_THYROID',\n",
       "       'BDCM_HAEMATOPOIETIC_AND_LYMPHOID_TISSUE', 'BFTC909_KIDNEY',\n",
       "       'BL41_HAEMATOPOIETIC_AND_LYMPHOID_TISSUE',\n",
       "       'BL70_HAEMATOPOIETIC_AND_LYMPHOID_TISSUE', 'BT20_BREAST',\n",
       "       'BT474_BREAST', 'BT549_BREAST', 'BXPC3_PANCREAS',\n",
       "       'C2BBE1_LARGE_INTESTINE', 'C32_SKIN', 'C3A_LIVER', 'CAKI2_KIDNEY',\n",
       "       'CAL12T_LUNG', 'CAL27_UPPER_AERODIGESTIVE_TRACT', 'CAL78_BONE',\n",
       "       'CAL851_BREAST', 'CALU1_LUNG', 'CALU3_LUNG', 'CALU6_LUNG',\n",
       "       'CAMA1_BREAST', 'CAPAN2_PANCREAS', 'CAS1_CENTRAL_NERVOUS_SYSTEM',\n",
       "       'CCK81_LARGE_INTESTINE', 'CHL1_SKIN', 'CHP212_AUTONOMIC_GANGLIA',\n",
       "       'CI1_HAEMATOPOIETIC_AND_LYMPHOID_TISSUE',\n",
       "       'CMK86_HAEMATOPOIETIC_AND_LYMPHOID_TISSUE',\n",
       "       'COLO201_LARGE_INTESTINE', 'COLO205_LARGE_INTESTINE',\n",
       "       'COLO320_LARGE_INTESTINE', 'COLO678_LARGE_INTESTINE',\n",
       "       'COLO679_SKIN', 'COLO741_SKIN', 'CORL105_LUNG', 'CORL23_LUNG',\n",
       "       'COV318_OVARY', 'COV504_OVARY', 'DAOY_CENTRAL_NERVOUS_SYSTEM',\n",
       "       'DBTRG05MG_CENTRAL_NERVOUS_SYSTEM',\n",
       "       'DEL_HAEMATOPOIETIC_AND_LYMPHOID_TISSUE',\n",
       "       'DETROIT562_UPPER_AERODIGESTIVE_TRACT',\n",
       "       'DKMG_CENTRAL_NERVOUS_SYSTEM', 'DMS114_LUNG',\n",
       "       'DOHH2_HAEMATOPOIETIC_AND_LYMPHOID_TISSUE', 'DU145_PROSTATE',\n",
       "       'DV90_LUNG', 'EB1_HAEMATOPOIETIC_AND_LYMPHOID_TISSUE',\n",
       "       'EB2_HAEMATOPOIETIC_AND_LYMPHOID_TISSUE', 'EBC1_LUNG',\n",
       "       'EFE184_ENDOMETRIUM', 'EFM19_BREAST', 'EFO21_OVARY', 'EFO27_OVARY',\n",
       "       'EM2_HAEMATOPOIETIC_AND_LYMPHOID_TISSUE', 'EN_ENDOMETRIUM',\n",
       "       'ES2_OVARY', 'ESS1_ENDOMETRIUM',\n",
       "       'F36P_HAEMATOPOIETIC_AND_LYMPHOID_TISSUE',\n",
       "       'FADU_UPPER_AERODIGESTIVE_TRACT', 'FU97_STOMACH', 'FUOV1_OVARY',\n",
       "       'G361_SKIN', 'G401_SOFT_TISSUE', 'G402_SOFT_TISSUE',\n",
       "       'GAMG_CENTRAL_NERVOUS_SYSTEM', 'GB1_CENTRAL_NERVOUS_SYSTEM',\n",
       "       'GCIY_STOMACH', 'GCT_SOFT_TISSUE', 'GI1_CENTRAL_NERVOUS_SYSTEM',\n",
       "       'GMS10_CENTRAL_NERVOUS_SYSTEM',\n",
       "       'GRANTA519_HAEMATOPOIETIC_AND_LYMPHOID_TISSUE',\n",
       "       'H4_CENTRAL_NERVOUS_SYSTEM', 'HARA_LUNG', 'HCC1187_BREAST',\n",
       "       'HCC1395_BREAST', 'HCC1569_BREAST', 'HCC15_LUNG', 'HCC1806_BREAST',\n",
       "       'HCC1954_BREAST', 'HCC2935_LUNG', 'HCC4006_LUNG', 'HCC44_LUNG',\n",
       "       'HCC56_LARGE_INTESTINE', 'HCC70_BREAST', 'HCC78_LUNG',\n",
       "       'HCC827_LUNG', 'HCT116_LARGE_INTESTINE', 'HCT15_LARGE_INTESTINE',\n",
       "       'HDMYZ_HAEMATOPOIETIC_AND_LYMPHOID_TISSUE', 'HDQP1_BREAST',\n",
       "       'HEC151_ENDOMETRIUM', 'HEC1A_ENDOMETRIUM', 'HEC1B_ENDOMETRIUM',\n",
       "       'HEC251_ENDOMETRIUM', 'HEC265_ENDOMETRIUM', 'HEC59_ENDOMETRIUM',\n",
       "       'HEC6_ENDOMETRIUM', 'HEL9217_HAEMATOPOIETIC_AND_LYMPHOID_TISSUE',\n",
       "       'HEP3B217_LIVER', 'HEPG2_LIVER', 'HEYA8_OVARY', 'HGC27_STOMACH',\n",
       "       'HH_HAEMATOPOIETIC_AND_LYMPHOID_TISSUE', 'HLE_LIVER', 'HLF_LIVER',\n",
       "       'HMC18_BREAST', 'HMCB_SKIN', 'HOS_BONE', 'HPAC_PANCREAS',\n",
       "       'HPAFII_PANCREAS', 'HS229T_LUNG', 'HS294T_SKIN', 'HS578T_BREAST',\n",
       "       'HS683_CENTRAL_NERVOUS_SYSTEM', 'HS695T_SKIN', 'HS729_SOFT_TISSUE',\n",
       "       'HS739T_BREAST', 'HS746T_STOMACH', 'HS766T_PANCREAS',\n",
       "       'HS840T_UPPER_AERODIGESTIVE_TRACT', 'HS852T_SKIN', 'HS895T_SKIN',\n",
       "       'HS936T_SKIN', 'HS939T_SKIN', 'HS944T_SKIN',\n",
       "       'HSC2_UPPER_AERODIGESTIVE_TRACT', 'HT1080_SOFT_TISSUE',\n",
       "       'HT1197_URINARY_TRACT', 'HT1376_URINARY_TRACT', 'HT144_SKIN',\n",
       "       'HT29_LARGE_INTESTINE', 'HT_HAEMATOPOIETIC_AND_LYMPHOID_TISSUE',\n",
       "       'HUCCT1_BILIARY_TRACT', 'HUH1_LIVER', 'HUPT3_PANCREAS',\n",
       "       'HUPT4_PANCREAS', 'HUT78_HAEMATOPOIETIC_AND_LYMPHOID_TISSUE',\n",
       "       'IALM_LUNG', 'IGR37_SKIN', 'IGR39_SKIN', 'IGROV1_OVARY',\n",
       "       'IM95_STOMACH', 'IMR32_AUTONOMIC_GANGLIA', 'IPC298_SKIN',\n",
       "       'ISHIKAWAHERAKLIO02ER_ENDOMETRIUM', 'ISTMES1_PLEURA',\n",
       "       'ISTMES2_PLEURA', 'J82_URINARY_TRACT', 'JHH2_LIVER', 'JHH4_LIVER',\n",
       "       'JHH5_LIVER', 'JHH6_LIVER', 'JHH7_LIVER', 'JHOS2_OVARY',\n",
       "       'JHOS4_OVARY', 'JHUEM2_ENDOMETRIUM',\n",
       "       'JM1_HAEMATOPOIETIC_AND_LYMPHOID_TISSUE', 'JMSU1_URINARY_TRACT',\n",
       "       'JURKAT_HAEMATOPOIETIC_AND_LYMPHOID_TISSUE',\n",
       "       'JVM3_HAEMATOPOIETIC_AND_LYMPHOID_TISSUE', 'K029AX_SKIN',\n",
       "       'KALS1_CENTRAL_NERVOUS_SYSTEM',\n",
       "       'KARPAS299_HAEMATOPOIETIC_AND_LYMPHOID_TISSUE',\n",
       "       'KARPAS422_HAEMATOPOIETIC_AND_LYMPHOID_TISSUE',\n",
       "       'KARPAS620_HAEMATOPOIETIC_AND_LYMPHOID_TISSUE',\n",
       "       'KASUMI2_HAEMATOPOIETIC_AND_LYMPHOID_TISSUE', 'KCIMOH1_PANCREAS',\n",
       "       'KCL22_HAEMATOPOIETIC_AND_LYMPHOID_TISSUE', 'KE39_STOMACH',\n",
       "       'KE97_HAEMATOPOIETIC_AND_LYMPHOID_TISSUE',\n",
       "       'KELLY_AUTONOMIC_GANGLIA',\n",
       "       'KG1_HAEMATOPOIETIC_AND_LYMPHOID_TISSUE',\n",
       "       'KHM1B_HAEMATOPOIETIC_AND_LYMPHOID_TISSUE', 'KLE_ENDOMETRIUM',\n",
       "       'KMBC2_URINARY_TRACT', 'KMM1_HAEMATOPOIETIC_AND_LYMPHOID_TISSUE',\n",
       "       'KMRC1_KIDNEY', 'KMRC2_KIDNEY',\n",
       "       'KMS11_HAEMATOPOIETIC_AND_LYMPHOID_TISSUE',\n",
       "       'KMS12BM_HAEMATOPOIETIC_AND_LYMPHOID_TISSUE',\n",
       "       'KMS26_HAEMATOPOIETIC_AND_LYMPHOID_TISSUE',\n",
       "       'KMS34_HAEMATOPOIETIC_AND_LYMPHOID_TISSUE',\n",
       "       'KNS42_CENTRAL_NERVOUS_SYSTEM', 'KNS60_CENTRAL_NERVOUS_SYSTEM',\n",
       "       'KNS62_LUNG', 'KNS81_CENTRAL_NERVOUS_SYSTEM',\n",
       "       'KO52_HAEMATOPOIETIC_AND_LYMPHOID_TISSUE', 'KP2_PANCREAS',\n",
       "       'KP3_PANCREAS', 'KP4_PANCREAS', 'KPNSI9S_AUTONOMIC_GANGLIA',\n",
       "       'KU812_HAEMATOPOIETIC_AND_LYMPHOID_TISSUE', 'KURAMOCHI_OVARY',\n",
       "       'KYM1_SOFT_TISSUE', 'KYSE140_OESOPHAGUS', 'KYSE150_OESOPHAGUS',\n",
       "       'KYSE180_OESOPHAGUS', 'KYSE30_OESOPHAGUS', 'KYSE410_OESOPHAGUS',\n",
       "       'KYSE450_OESOPHAGUS', 'KYSE510_OESOPHAGUS', 'KYSE520_OESOPHAGUS',\n",
       "       'KYSE70_OESOPHAGUS', 'L33_PANCREAS',\n",
       "       'L363_HAEMATOPOIETIC_AND_LYMPHOID_TISSUE',\n",
       "       'L428_HAEMATOPOIETIC_AND_LYMPHOID_TISSUE', 'LC1SQSF_LUNG',\n",
       "       'LCLC103H_LUNG', 'LN18_CENTRAL_NERVOUS_SYSTEM',\n",
       "       'LN229_CENTRAL_NERVOUS_SYSTEM', 'LOUNH91_LUNG', 'LOXIMVI_SKIN',\n",
       "       'LP1_HAEMATOPOIETIC_AND_LYMPHOID_TISSUE', 'LS123_LARGE_INTESTINE',\n",
       "       'LS411N_LARGE_INTESTINE', 'LS513_LARGE_INTESTINE', 'LU99_LUNG',\n",
       "       'LUDLU1_LUNG', 'MALME3M_SKIN',\n",
       "       'MC116_HAEMATOPOIETIC_AND_LYMPHOID_TISSUE', 'MCAS_OVARY',\n",
       "       'MCF7_BREAST', 'MDAMB157_BREAST', 'MDAMB175VII_BREAST',\n",
       "       'MDAMB415_BREAST', 'MDAMB435S_SKIN', 'MDAMB436_BREAST',\n",
       "       'MDAMB453_BREAST', 'MDAMB468_BREAST',\n",
       "       'MEC1_HAEMATOPOIETIC_AND_LYMPHOID_TISSUE',\n",
       "       'MEG01_HAEMATOPOIETIC_AND_LYMPHOID_TISSUE', 'MELHO_SKIN',\n",
       "       'MESSA_SOFT_TISSUE', 'MEWO_SKIN', 'MFE280_ENDOMETRIUM',\n",
       "       'MFE296_ENDOMETRIUM', 'MFE319_ENDOMETRIUM', 'MG63_BONE',\n",
       "       'MHHES1_BONE', 'MIAPACA2_PANCREAS',\n",
       "       'MINO_HAEMATOPOIETIC_AND_LYMPHOID_TISSUE',\n",
       "       'MJ_HAEMATOPOIETIC_AND_LYMPHOID_TISSUE', 'MKN45_STOMACH',\n",
       "       'MKN74_STOMACH', 'MKN7_STOMACH', 'MOGGCCM_CENTRAL_NERVOUS_SYSTEM',\n",
       "       'MOLP8_HAEMATOPOIETIC_AND_LYMPHOID_TISSUE',\n",
       "       'MOLT16_HAEMATOPOIETIC_AND_LYMPHOID_TISSUE',\n",
       "       'MONOMAC1_HAEMATOPOIETIC_AND_LYMPHOID_TISSUE', 'MORCPR_LUNG',\n",
       "       'MPP89_PLEURA', 'MSTO211H_PLEURA', 'NCIH1048_LUNG',\n",
       "       'NCIH1092_LUNG', 'NCIH1155_LUNG', 'NCIH1184_LUNG', 'NCIH1299_LUNG',\n",
       "       'NCIH1339_LUNG', 'NCIH1341_LUNG', 'NCIH1355_LUNG', 'NCIH1373_LUNG',\n",
       "       'NCIH1563_LUNG', 'NCIH1568_LUNG', 'NCIH1573_LUNG', 'NCIH1581_LUNG',\n",
       "       'NCIH1648_LUNG', 'NCIH1650_LUNG', 'NCIH1651_LUNG', 'NCIH1666_LUNG',\n",
       "       'NCIH1693_LUNG', 'NCIH1694_LUNG', 'NCIH1703_LUNG', 'NCIH1792_LUNG',\n",
       "       'NCIH1793_LUNG', 'NCIH1869_LUNG', 'NCIH1915_LUNG', 'NCIH1944_LUNG',\n",
       "       'NCIH1975_LUNG', 'NCIH2009_LUNG', 'NCIH2023_LUNG', 'NCIH2030_LUNG',\n",
       "       'NCIH2052_PLEURA', 'NCIH2085_LUNG', 'NCIH2087_LUNG',\n",
       "       'NCIH211_LUNG', 'NCIH2122_LUNG', 'NCIH2170_LUNG', 'NCIH2172_LUNG',\n",
       "       'NCIH2228_LUNG', 'NCIH226_LUNG', 'NCIH2286_LUNG', 'NCIH23_LUNG',\n",
       "       'NCIH2444_LUNG', 'NCIH2452_PLEURA', 'NCIH28_PLEURA',\n",
       "       'NCIH322_LUNG', 'NCIH3255_LUNG', 'NCIH358_LUNG', 'NCIH441_LUNG',\n",
       "       'NCIH460_LUNG', 'NCIH520_LUNG', 'NCIH522_LUNG', 'NCIH647_LUNG',\n",
       "       'NCIH650_LUNG', 'NCIH661_LUNG', 'NCIH727_LUNG',\n",
       "       'NCIH747_LARGE_INTESTINE', 'NCIH810_LUNG', 'NCIN87_STOMACH',\n",
       "       'NCO2_HAEMATOPOIETIC_AND_LYMPHOID_TISSUE', 'NIHOVCAR3_OVARY',\n",
       "       'NUGC3_STOMACH', 'NUGC4_STOMACH', 'OC314_OVARY', 'OC315_OVARY',\n",
       "       'OC316_OVARY', 'OCIAML2_HAEMATOPOIETIC_AND_LYMPHOID_TISSUE',\n",
       "       'OCIAML5_HAEMATOPOIETIC_AND_LYMPHOID_TISSUE',\n",
       "       'OCILY10_HAEMATOPOIETIC_AND_LYMPHOID_TISSUE', 'OCUM1_STOMACH',\n",
       "       'OE33_OESOPHAGUS', 'ONCODG1_OVARY', 'ONS76_CENTRAL_NERVOUS_SYSTEM',\n",
       "       'OPM2_HAEMATOPOIETIC_AND_LYMPHOID_TISSUE', 'OV90_OVARY',\n",
       "       'OVCAR4_OVARY', 'OVCAR8_OVARY', 'OVMANA_OVARY', 'OVSAHO_OVARY',\n",
       "       'OVTOKO_OVARY', 'P12ICHIKAWA_HAEMATOPOIETIC_AND_LYMPHOID_TISSUE',\n",
       "       'P31FUJ_HAEMATOPOIETIC_AND_LYMPHOID_TISSUE',\n",
       "       'P3HR1_HAEMATOPOIETIC_AND_LYMPHOID_TISSUE', 'PANC0203_PANCREAS',\n",
       "       'PANC0327_PANCREAS', 'PANC0403_PANCREAS', 'PANC1005_PANCREAS',\n",
       "       'PATU8902_PANCREAS', 'PC14_LUNG', 'PC3_PROSTATE',\n",
       "       'PFEIFFER_HAEMATOPOIETIC_AND_LYMPHOID_TISSUE', 'PK1_PANCREAS',\n",
       "       'PK45H_PANCREAS', 'PK59_PANCREAS', 'PL45_PANCREAS',\n",
       "       'PLCPRF5_LIVER', 'PSN1_PANCREAS', 'QGP1_PANCREAS',\n",
       "       'RAJI_HAEMATOPOIETIC_AND_LYMPHOID_TISSUE', 'RD_SOFT_TISSUE',\n",
       "       'REH_HAEMATOPOIETIC_AND_LYMPHOID_TISSUE', 'RERFGC1B_STOMACH',\n",
       "       'RERFLCAI_LUNG', 'RERFLCMS_LUNG', 'RKO_LARGE_INTESTINE',\n",
       "       'RL952_ENDOMETRIUM', 'RPMI7951_SKIN',\n",
       "       'RPMI8402_HAEMATOPOIETIC_AND_LYMPHOID_TISSUE',\n",
       "       'RT112_URINARY_TRACT', 'RT4_URINARY_TRACT', 'RVH421_SKIN',\n",
       "       'SAOS2_BONE', 'SBC5_LUNG', 'SCABER_URINARY_TRACT',\n",
       "       'SCC25_UPPER_AERODIGESTIVE_TRACT',\n",
       "       'SCC9_UPPER_AERODIGESTIVE_TRACT', 'SF126_CENTRAL_NERVOUS_SYSTEM',\n",
       "       'SF295_CENTRAL_NERVOUS_SYSTEM', 'SH10TC_STOMACH', 'SHP77_LUNG',\n",
       "       'SIGM5_HAEMATOPOIETIC_AND_LYMPHOID_TISSUE',\n",
       "       'SIMA_AUTONOMIC_GANGLIA', 'SJRH30_SOFT_TISSUE', 'SJSA1_BONE',\n",
       "       'SKBR3_BREAST', 'SKCO1_LARGE_INTESTINE', 'SKES1_BONE',\n",
       "       'SKHEP1_LIVER', 'SKLMS1_SOFT_TISSUE', 'SKLU1_LUNG', 'SKMEL24_SKIN',\n",
       "       'SKMEL2_SKIN', 'SKMEL30_SKIN', 'SKMEL31_SKIN', 'SKMEL5_SKIN',\n",
       "       'SKMES1_LUNG', 'SKMM2_HAEMATOPOIETIC_AND_LYMPHOID_TISSUE',\n",
       "       'SKNAS_AUTONOMIC_GANGLIA', 'SKNBE2_AUTONOMIC_GANGLIA',\n",
       "       'SKNDZ_AUTONOMIC_GANGLIA', 'SKNFI_AUTONOMIC_GANGLIA',\n",
       "       'SKNSH_AUTONOMIC_GANGLIA', 'SKOV3_OVARY', 'SNGM_ENDOMETRIUM',\n",
       "       'SNU16_STOMACH', 'SNU182_LIVER', 'SNU1_STOMACH', 'SNU387_LIVER',\n",
       "       'SNU398_LIVER', 'SNU423_LIVER', 'SNU449_LIVER', 'SNU475_LIVER',\n",
       "       'SNUC2A_LARGE_INTESTINE', 'SQ1_LUNG', 'SU8686_PANCREAS',\n",
       "       'SUDHL10_HAEMATOPOIETIC_AND_LYMPHOID_TISSUE',\n",
       "       'SUDHL4_HAEMATOPOIETIC_AND_LYMPHOID_TISSUE',\n",
       "       'SUDHL6_HAEMATOPOIETIC_AND_LYMPHOID_TISSUE',\n",
       "       'SUDHL8_HAEMATOPOIETIC_AND_LYMPHOID_TISSUE', 'SUIT2_PANCREAS',\n",
       "       'SUPM2_HAEMATOPOIETIC_AND_LYMPHOID_TISSUE',\n",
       "       'SUPT1_HAEMATOPOIETIC_AND_LYMPHOID_TISSUE',\n",
       "       'SW1088_CENTRAL_NERVOUS_SYSTEM', 'SW1271_LUNG', 'SW1353_BONE',\n",
       "       'SW1417_LARGE_INTESTINE', 'SW1573_LUNG', 'SW1990_PANCREAS',\n",
       "       'SW403_LARGE_INTESTINE', 'SW480_LARGE_INTESTINE',\n",
       "       'SW48_LARGE_INTESTINE', 'SW579_THYROID', 'SW620_LARGE_INTESTINE',\n",
       "       'SW780_URINARY_TRACT', 'SW900_LUNG', 'T24_URINARY_TRACT',\n",
       "       'T3M10_LUNG', 'T47D_BREAST', 'T84_LARGE_INTESTINE',\n",
       "       'T98G_CENTRAL_NERVOUS_SYSTEM', 'TC71_BONE', 'TCCSUP_URINARY_TRACT',\n",
       "       'TE11_OESOPHAGUS', 'TE15_OESOPHAGUS', 'TE1_OESOPHAGUS',\n",
       "       'TE5_OESOPHAGUS', 'TE617T_SOFT_TISSUE', 'TE9_OESOPHAGUS',\n",
       "       'TEN_ENDOMETRIUM', 'TOLEDO_HAEMATOPOIETIC_AND_LYMPHOID_TISSUE',\n",
       "       'TOV112D_OVARY', 'TOV21G_OVARY', 'TT2609C02_THYROID',\n",
       "       'TYKNU_OVARY', 'U118MG_CENTRAL_NERVOUS_SYSTEM', 'U2OS_BONE',\n",
       "       'U87MG_CENTRAL_NERVOUS_SYSTEM',\n",
       "       'U937_HAEMATOPOIETIC_AND_LYMPHOID_TISSUE', 'UACC257_SKIN',\n",
       "       'UACC62_SKIN', 'UACC812_BREAST', 'UMUC3_URINARY_TRACT',\n",
       "       'VMRCLCD_LUNG', 'VMRCRCW_KIDNEY', 'VMRCRCZ_KIDNEY', 'WM115_SKIN',\n",
       "       'WM1799_SKIN', 'WM2664_SKIN', 'WM793_SKIN', 'WM88_SKIN',\n",
       "       'WM983B_SKIN', 'YKG1_CENTRAL_NERVOUS_SYSTEM', 'ZR751_BREAST',\n",
       "       'ZR7530_BREAST'], dtype=object)"
      ]
     },
     "execution_count": 18,
     "metadata": {},
     "output_type": "execute_result"
    }
   ],
   "source": [
    "dataset.get_cells(unique=True)"
   ]
  },
  {
   "cell_type": "code",
   "execution_count": 19,
   "id": "cd119b3c",
   "metadata": {},
   "outputs": [
    {
     "data": {
      "text/plain": [
       "array([    0,     1,     2, ..., 18923, 18924, 18925])"
      ]
     },
     "execution_count": 19,
     "metadata": {},
     "output_type": "execute_result"
    }
   ],
   "source": [
    "dataset.get_genes()"
   ]
  },
  {
   "cell_type": "code",
   "execution_count": 20,
   "id": "cf9e7838",
   "metadata": {},
   "outputs": [
    {
     "data": {
      "text/plain": [
       "array([1, 1, 1, ..., 1, 1, 1], dtype=uint8)"
      ]
     },
     "execution_count": 20,
     "metadata": {},
     "output_type": "execute_result"
    }
   ],
   "source": [
    "dataset.get_labels()"
   ]
  },
  {
   "cell_type": "code",
   "execution_count": 21,
   "id": "b241713a",
   "metadata": {},
   "outputs": [
    {
     "data": {
      "text/plain": [
       "array([[4.33, 4.35, 5.29, ..., 8.23, 4.88, 3.66],\n",
       "       [3.82, 4.08, 3.71, ..., 8.04, 4.95, 3.6 ],\n",
       "       [3.91, 4.49, 3.75, ..., 8.8 , 4.89, 3.96],\n",
       "       ...,\n",
       "       [5.42, 8.27, 7.53, ..., 9.6 , 4.87, 3.71],\n",
       "       [4.1 , 7.8 , 3.8 , ..., 8.32, 4.35, 3.89],\n",
       "       [4.87, 7.43, 3.87, ..., 5.35, 5.  , 3.82]])"
      ]
     },
     "execution_count": 21,
     "metadata": {},
     "output_type": "execute_result"
    }
   ],
   "source": [
    "dataset.get_exprs()"
   ]
  },
  {
   "cell_type": "markdown",
   "id": "dcd6f8e0",
   "metadata": {},
   "source": [
    "**Note:** For the Bayesian Optimization process, we need to define the hyperparameter space first and perform the Bayesian search. Here our purpose is to show how the model is trained, so let's ignore the hyperparameter part, and directly go with a given set of hyperparamters."
   ]
  },
  {
   "cell_type": "code",
   "execution_count": 34,
   "id": "d30edac9",
   "metadata": {},
   "outputs": [],
   "source": [
    "# this will be an example set of parameters we decide to use after the Bayesian optimization\n",
    "BEST_HIDDEN_UNITS = 128\n",
    "BEST_LEARNING_RATE_FTRL = 0.1\n",
    "BEST_LEARNING_RATE_ADAM = 0.014530495141666015\n",
    "BEST_L1_REGULARIZATION_STRENGTH = 100.0\n",
    "BEST_L2_REGULARIZATION_STRENGTH = 0.001"
   ]
  },
  {
   "cell_type": "markdown",
   "id": "183b3ca3",
   "metadata": {},
   "source": [
    "Split the data for outer loop of cross validation:"
   ]
  },
  {
   "cell_type": "code",
   "execution_count": 23,
   "id": "6e8d461e",
   "metadata": {},
   "outputs": [],
   "source": [
    "global fitness_step\n",
    "global fitness_idx_train\n",
    "global fitness_idx_test\n",
    "global innerkfold\n",
    "global batchsize\n",
    "global numtrainingsteps\n",
    "    \n",
    "## 3-1) init lists for metrics\n",
    "ACCURACY_outer = []\n",
    "AUCROC_outer = []\n",
    "AUCPR_outer = []\n",
    "\n",
    "kf = StratifiedKFold(n_splits=outerkfold, shuffle=True)"
   ]
  },
  {
   "cell_type": "markdown",
   "id": "15feffc6",
   "metadata": {},
   "source": [
    "We can take a look at the splits:"
   ]
  },
  {
   "cell_type": "code",
   "execution_count": 24,
   "id": "7f79a485",
   "metadata": {},
   "outputs": [
    {
     "name": "stdout",
     "output_type": "stream",
     "text": [
      "split 0: train 4579, test 1145\n",
      "split 1: train 4579, test 1145\n",
      "split 2: train 4579, test 1145\n",
      "split 3: train 4579, test 1145\n",
      "split 4: train 4580, test 1144\n"
     ]
    }
   ],
   "source": [
    "splits = []\n",
    "for k, (idx_train, idx_test) in enumerate(kf.split(X=np.zeros(len(dataset)), y=dataset.get_drugs())): \n",
    "    print(f'split {k}: train {len(idx_train)}, test {len(idx_test)}')\n",
    "    splits.append((idx_train, idx_test))"
   ]
  },
  {
   "cell_type": "code",
   "execution_count": 25,
   "id": "83d6e77c",
   "metadata": {},
   "outputs": [
    {
     "data": {
      "text/plain": [
       "(array([   0,    1,    3, ..., 5721, 5722, 5723]),\n",
       " array([   2,    9,   12, ..., 5710, 5713, 5716]))"
      ]
     },
     "execution_count": 25,
     "metadata": {},
     "output_type": "execute_result"
    }
   ],
   "source": [
    "# the indexes of each split\n",
    "splits[0]"
   ]
  },
  {
   "cell_type": "code",
   "execution_count": 26,
   "id": "5164a872",
   "metadata": {},
   "outputs": [
    {
     "data": {
      "text/plain": [
       "(array([   0,    1,    2, ..., 5720, 5721, 5723]),\n",
       " array([   3,    6,   14, ..., 5715, 5717, 5722]))"
      ]
     },
     "execution_count": 26,
     "metadata": {},
     "output_type": "execute_result"
    }
   ],
   "source": [
    "splits[1]"
   ]
  },
  {
   "cell_type": "code",
   "execution_count": 27,
   "id": "d530a455",
   "metadata": {},
   "outputs": [
    {
     "data": {
      "text/plain": [
       "(array([   0,    2,    3, ..., 5718, 5721, 5722]),\n",
       " array([   1,    4,    8, ..., 5719, 5720, 5723]))"
      ]
     },
     "execution_count": 27,
     "metadata": {},
     "output_type": "execute_result"
    }
   ],
   "source": [
    "splits[2]"
   ]
  },
  {
   "cell_type": "code",
   "execution_count": 28,
   "id": "d5bb2e4a",
   "metadata": {},
   "outputs": [
    {
     "data": {
      "text/plain": [
       "(array([   1,    2,    3, ..., 5720, 5722, 5723]),\n",
       " array([   0,   10,   16, ..., 5708, 5718, 5721]))"
      ]
     },
     "execution_count": 28,
     "metadata": {},
     "output_type": "execute_result"
    }
   ],
   "source": [
    "splits[3]"
   ]
  },
  {
   "cell_type": "code",
   "execution_count": 29,
   "id": "aec069bc",
   "metadata": {},
   "outputs": [
    {
     "data": {
      "text/plain": [
       "(array([   0,    1,    2, ..., 5721, 5722, 5723]),\n",
       " array([   5,    7,   19, ..., 5703, 5707, 5714]))"
      ]
     },
     "execution_count": 29,
     "metadata": {},
     "output_type": "execute_result"
    }
   ],
   "source": [
    "splits[4]"
   ]
  },
  {
   "cell_type": "markdown",
   "id": "86d87236",
   "metadata": {},
   "source": [
    "Let's just use the first split as an example:"
   ]
  },
  {
   "cell_type": "code",
   "execution_count": 30,
   "id": "4e40995f",
   "metadata": {},
   "outputs": [],
   "source": [
    "#for k, (idx_train, idx_test) in enumerate(kf.split(X=np.zeros(len(dataset)), y=dataset.get_drugs())):    \n",
    "\n",
    "# for a certain split:\n",
    "idx_train, idx_test =  splits[0]\n",
    "fitness_step = 1\n",
    "fitness_idx_train, fitness_idx_test = splits[0]"
   ]
  },
  {
   "cell_type": "code",
   "execution_count": 31,
   "id": "75c47b8a",
   "metadata": {},
   "outputs": [
    {
     "data": {
      "text/plain": [
       "4579"
      ]
     },
     "execution_count": 31,
     "metadata": {},
     "output_type": "execute_result"
    }
   ],
   "source": [
    "len(idx_train)"
   ]
  },
  {
   "cell_type": "code",
   "execution_count": 32,
   "id": "a4453175",
   "metadata": {},
   "outputs": [
    {
     "data": {
      "text/plain": [
       "1145"
      ]
     },
     "execution_count": 32,
     "metadata": {},
     "output_type": "execute_result"
    }
   ],
   "source": [
    "len(idx_test)"
   ]
  },
  {
   "cell_type": "markdown",
   "id": "96962354",
   "metadata": {},
   "source": [
    "Further split the train data into train and validation, for model training:"
   ]
  },
  {
   "cell_type": "code",
   "execution_count": 35,
   "id": "625d8c01",
   "metadata": {},
   "outputs": [],
   "source": [
    "idx_train_train, idx_train_valid = train_test_split(idx_train, test_size=0.2, stratify=dataset.get_drugs()[idx_train])"
   ]
  },
  {
   "cell_type": "code",
   "execution_count": 36,
   "id": "1e6935c1",
   "metadata": {},
   "outputs": [
    {
     "data": {
      "text/plain": [
       "3663"
      ]
     },
     "execution_count": 36,
     "metadata": {},
     "output_type": "execute_result"
    }
   ],
   "source": [
    "len(idx_train_train)"
   ]
  },
  {
   "cell_type": "code",
   "execution_count": 37,
   "id": "772f9ba7",
   "metadata": {},
   "outputs": [
    {
     "data": {
      "text/plain": [
       "array([ 884, 2155, 3273, ...,  148, 3977, 3133])"
      ]
     },
     "execution_count": 37,
     "metadata": {},
     "output_type": "execute_result"
    }
   ],
   "source": [
    "idx_train_train"
   ]
  },
  {
   "cell_type": "code",
   "execution_count": 38,
   "id": "991a79a5",
   "metadata": {},
   "outputs": [
    {
     "data": {
      "text/plain": [
       "916"
      ]
     },
     "execution_count": 38,
     "metadata": {},
     "output_type": "execute_result"
    }
   ],
   "source": [
    "len(idx_train_valid)"
   ]
  },
  {
   "cell_type": "code",
   "execution_count": 39,
   "id": "8c58eede",
   "metadata": {},
   "outputs": [
    {
     "data": {
      "text/plain": [
       "array([5494, 3212, 2912, 1252, 5377,  975, 2075,  922, 4371, 2728, 3529,\n",
       "       3667, 1480, 5379, 1677, 5086, 1476,  886,  460, 4574, 2174, 3903,\n",
       "        561,  934, 4978, 1734, 1013, 3539,  980, 4111, 3846, 4498,  601,\n",
       "        463, 5539, 4255, 3291, 1981, 1576, 4310, 3860, 1020, 1864, 3208,\n",
       "       3932, 1906,  476,  579,  565, 2226, 1484, 4925, 3459,  263, 3131,\n",
       "        644, 4641, 4214, 2514, 4916, 5609, 4250, 4170,  353, 4654, 3232,\n",
       "        547, 3491, 4962, 3145, 1525, 2699, 2824, 4474, 4307, 1533, 5472,\n",
       "        271,  633,  484, 1666,   76, 3384,  261, 3155, 3798, 5222, 3015,\n",
       "       5345, 1179, 1336, 4194, 4295,  755, 2906, 1337, 3560, 1853, 4960,\n",
       "       2279, 1288, 3898, 4027, 5143, 2897,  879,  341, 2270, 2100, 4131,\n",
       "        893, 1231, 1630, 1396, 2743, 3631, 1625, 1398,  860, 2649, 4769,\n",
       "       2408, 4832, 2453, 3863, 1301, 1259, 3355, 1436, 2627, 2737,  844,\n",
       "       2386, 3281, 4456, 1172, 4836, 3140, 1350, 4342, 2606,   38, 5291,\n",
       "       4325, 1307, 4368, 4683, 3879, 2859, 4219, 1856, 5114,  240, 2231,\n",
       "       2332,  157, 4007, 4629,  764,  516, 1783, 4507, 3947, 2867, 3869,\n",
       "       4535, 1088, 2403, 3793, 4595, 2792, 5214, 1241, 5476, 3178, 2409,\n",
       "       3836,  203, 3123, 5708, 1264, 1560, 1932, 3913, 3558, 4026,  567,\n",
       "       1748, 3603, 3986, 3911, 4040,  909, 3597, 4098,  343, 2357,   97,\n",
       "       3462, 2903, 4710, 2456, 5048, 4135, 2746, 4365, 4698,  891,   26,\n",
       "        256, 4199, 3448, 3743, 5399, 2624, 4823, 5270, 2162, 3027, 3988,\n",
       "       1066, 2554, 5095, 1056, 4719, 1115, 5360, 1878,  161, 2939,  387,\n",
       "       3523, 3161, 1370, 5021, 3017, 4202, 1918, 5445, 3520, 5482, 4785,\n",
       "       3210, 4228, 3396, 5645, 4910,  874,  690,  772, 2015,  581, 3237,\n",
       "       2449, 4909,  385,  541, 2578, 4395,  614, 2260, 5141,  765, 2654,\n",
       "       5030,  878, 1302, 1628, 4847,  817, 4029, 5267, 2620, 4624, 4190,\n",
       "       2517, 1233, 1600, 5014, 2831, 4517, 3760,  613, 1320,  477,  758,\n",
       "       4266, 2121, 1543, 3440,  971,  390, 4409,  281, 1528, 5006, 4630,\n",
       "       5104, 4905, 2114, 5454, 2781, 1272, 5331, 3196, 3752, 1842, 3480,\n",
       "       1131,  743, 3118,  938, 3953, 5357, 3329,  669, 1869, 3135, 2271,\n",
       "        475, 1094, 5231, 3455, 5423,  953, 4747, 5250,  436, 2209,   61,\n",
       "       3016, 4184, 5580, 3848, 5294, 3071, 5687,   90, 1452, 4141, 3447,\n",
       "       4594, 4100,  982, 2438,  612,  968, 1555, 4610, 2923, 2612, 1092,\n",
       "       1486, 2738, 4673, 4627,  184, 5065, 5688, 5497, 1326, 4043, 5163,\n",
       "       3657, 4210, 2089, 3660, 3671, 5410, 5034, 4555, 5690, 2601,  660,\n",
       "       3742,    1, 2249, 3257, 2527, 2508,  284, 2000,  351, 1141, 3764,\n",
       "       3221, 3076, 4180, 1790, 4840, 3367, 4833, 3478, 1481, 4540,  585,\n",
       "        317, 4805, 4597, 4711, 1985, 1151, 2336, 5616, 5405, 1719,  798,\n",
       "       1843, 2133, 5395, 5542, 3553, 5177, 1414, 3745, 3274,  626, 5463,\n",
       "       4269, 2149,  362,  434, 2493, 2707, 1033, 5671,  578, 3604, 5695,\n",
       "       2868, 5052, 5669,  257, 1618, 2151,  217, 5370, 2189, 2087, 2816,\n",
       "        149, 1435, 1214, 4768, 1175, 4778, 1371,  378, 2211, 3234, 5436,\n",
       "       5068, 1501, 5446, 3450, 2050, 2020, 1900, 2711, 4108, 5460, 2242,\n",
       "       4666, 3373, 3272, 2565, 5182, 4273, 2913, 2828, 2961, 3681,   55,\n",
       "       5010, 1344, 3301, 5118, 3847, 2477, 5087, 2196,  937, 5186, 3061,\n",
       "       1230,   17,  665, 4417, 1978, 1944, 2140, 4846, 4433, 2199, 2911,\n",
       "       5107, 3567, 1798, 2770, 1650, 2308, 1685, 3429,  803, 4987, 4189,\n",
       "       5442, 2496, 3488, 1595, 1270, 3644, 3984, 2459, 4575, 5127, 2466,\n",
       "       2462, 5292, 5148,  246, 5338, 3105,  289, 3425, 3701, 2605,  933,\n",
       "       1394, 2182, 4809, 4274, 4939, 1891, 1852, 3042,  251, 1438, 2030,\n",
       "        761, 5339, 1671, 2744, 1363, 5283, 1374,   60, 4937, 4732,  964,\n",
       "       3426, 3084, 4233, 2322, 2474, 2225, 5676, 4052, 1095,  376, 2997,\n",
       "       1839, 5286, 1120, 1313, 1523, 1457, 1887, 3576, 1237, 5689, 2572,\n",
       "       1493, 2503,  825,  295, 1577, 4419, 4511, 4260,  482, 1889, 5458,\n",
       "       2458, 2148, 1265, 3795, 3231, 5420, 2783, 1733, 2934,  316, 3117,\n",
       "       2338,  894,  822, 4679,   78, 3937, 2726,  744,  114,  777, 1539,\n",
       "       5655, 3434, 2129, 5534, 5062, 4261, 4765,  290, 2433,   41, 1057,\n",
       "       4407, 4041, 5193, 4078, 1557, 2860, 1952, 1437, 5501, 1893, 1315,\n",
       "       1204, 3248,  510, 4863, 2469, 1529,  412, 2258, 3168,  951, 2709,\n",
       "       4422, 2048, 3263, 4669,  945,  164, 4886, 5355,  450, 4028, 5425,\n",
       "       1429, 1854, 1316, 4016, 3518, 5513, 2177, 3423, 3608,  856, 5602,\n",
       "       2237, 3633, 1567,  736, 4703, 3296, 4158, 2886, 3495, 5530, 1152,\n",
       "       2985, 2141, 1496, 4226, 4599, 4025,  991, 5660, 3914, 4406, 1424,\n",
       "       5525, 2098,  226, 5314, 1606,  751, 1511, 5007,  199, 3682, 2643,\n",
       "       2372, 1716, 4061, 5083, 1046, 2794,  192, 3124, 3136,  627, 2748,\n",
       "       2421,  926, 3356, 1689,  266, 2780,  756,  779, 5389, 1930, 1707,\n",
       "       4208, 4500,  858, 1253, 4544, 2206, 3672, 5216, 4277, 3419, 2883,\n",
       "       1888, 1827, 4573, 1163,  280, 2420, 1658, 3589,  456, 2549, 2136,\n",
       "       3784, 1672,  260,  296, 4129, 4047, 3432, 2454,  350, 2730, 4000,\n",
       "       5001, 5573, 1693, 4737, 2452, 2813, 1029, 2838, 1669, 2558, 4689,\n",
       "       4066,  931,  479, 2351, 3779, 4361, 1643, 4350, 4868,   34,  354,\n",
       "       4303,  205, 1147, 5576, 4549, 2255, 2837,  544, 2902, 1379, 4932,\n",
       "       3538, 1391, 4096, 1536, 4359, 5254, 2590, 2662, 1949, 2958, 5404,\n",
       "       2924, 5680, 3170, 5535, 5011, 5191,  866, 4696, 3715, 2965,   44,\n",
       "       3339, 2313, 4931, 3245, 1688, 4605,   63, 1883, 3311, 1903, 5344,\n",
       "       2056, 2251, 4503, 3505, 1558, 2968, 1927, 2515, 5704,  734, 3884,\n",
       "       2560, 5167, 4815, 5149, 4879, 3792,  301, 3050, 4709, 4278, 3185,\n",
       "       5527, 5135,   35, 4159, 2301, 5421, 1098, 5435, 1996, 5567,  553,\n",
       "       3493, 3265, 4803, 1222,  702,  443, 5586, 2593, 3702, 1342, 4431,\n",
       "       3733, 1649, 2803, 3591, 4859, 1750, 1680, 3012, 4103, 3646, 4444,\n",
       "       5064, 2039,  549, 4008, 1963,  325, 3043, 3119, 5628,  513, 3295,\n",
       "        719, 4240,  569, 4668, 4005,  556, 3490, 3321, 2492,  106, 3927,\n",
       "        191, 1235, 2735, 4206, 5489,  152, 1993, 3902, 5594, 3347, 4746,\n",
       "       4952, 4797, 4614, 2922, 1736, 2213,  804, 3698,  915,  618,    4,\n",
       "       4600, 4483, 4877])"
      ]
     },
     "execution_count": 39,
     "metadata": {},
     "output_type": "execute_result"
    }
   ],
   "source": [
    "idx_train_valid"
   ]
  },
  {
   "cell_type": "markdown",
   "id": "78953920",
   "metadata": {},
   "source": [
    "This is the \"reference drugs\". In the default, it's just all of the unique drugs in the dataset:"
   ]
  },
  {
   "cell_type": "code",
   "execution_count": 40,
   "id": "493edd9c",
   "metadata": {},
   "outputs": [
    {
     "data": {
      "text/plain": [
       "array(['Erlotinib', 'Lapatinib', 'Nilotinib', 'Nutlin-3a (-)',\n",
       "       'PD0325901', 'PHA-665752', 'PLX-4720', 'Paclitaxel', 'Palbociclib',\n",
       "       'Selumetinib', 'Sorafenib', 'Tanespimycin'], dtype=object)"
      ]
     },
     "execution_count": 40,
     "metadata": {},
     "output_type": "execute_result"
    }
   ],
   "source": [
    "base_drugs = np.unique(dataset.get_drugs()[idx_train_train])\n",
    "base_drugs"
   ]
  },
  {
   "cell_type": "markdown",
   "id": "508c9e91",
   "metadata": {},
   "source": [
    "### Prepare the data for the model:"
   ]
  },
  {
   "cell_type": "code",
   "execution_count": 41,
   "id": "308bacf5",
   "metadata": {},
   "outputs": [],
   "source": [
    "X_train = dataset.make_xdata(idx_train_train)\n",
    "S_train = dataset.make_sdata(base_drugs, idx_train_train)\n",
    "I_train = dataset.make_idata(base_drugs, idx_train_train)\n",
    "Y_train = dataset.make_ydata(idx_train_train)"
   ]
  },
  {
   "cell_type": "code",
   "execution_count": 42,
   "id": "a28f3e76",
   "metadata": {},
   "outputs": [
    {
     "name": "stdout",
     "output_type": "stream",
     "text": [
      "(3663, 18926)\n"
     ]
    },
    {
     "data": {
      "text/plain": [
       "array([[3.9 , 4.28, 3.92, ..., 8.97, 5.19, 7.35],\n",
       "       [4.26, 4.43, 3.76, ..., 9.1 , 5.11, 4.12],\n",
       "       [4.17, 4.71, 7.67, ..., 8.49, 5.18, 4.43],\n",
       "       ...,\n",
       "       [4.15, 6.96, 8.83, ..., 6.25, 5.2 , 5.21],\n",
       "       [3.91, 4.57, 3.88, ..., 8.12, 5.25, 3.98],\n",
       "       [3.8 , 7.91, 3.93, ..., 7.84, 5.11, 4.3 ]], dtype=float32)"
      ]
     },
     "execution_count": 42,
     "metadata": {},
     "output_type": "execute_result"
    }
   ],
   "source": [
    "# each row is a cell line (of the cellline-drug pair)\n",
    "# 3663 pairs, 18926 genes\n",
    "print(X_train.shape)\n",
    "X_train"
   ]
  },
  {
   "cell_type": "code",
   "execution_count": 43,
   "id": "ecf6bb6f",
   "metadata": {},
   "outputs": [
    {
     "name": "stdout",
     "output_type": "stream",
     "text": [
      "(3663, 12)\n"
     ]
    },
    {
     "data": {
      "text/plain": [
       "array([[0.30208334, 0.3431007 , 0.3363585 , ..., 0.3378076 , 0.27724552,\n",
       "        1.        ],\n",
       "       [0.369994  , 0.43024555, 0.36560366, ..., 0.35072142, 0.3653484 ,\n",
       "        0.36780384],\n",
       "       [0.3039711 , 0.3170577 , 0.33147633, ..., 0.521875  , 0.29923075,\n",
       "        0.29837704],\n",
       "       ...,\n",
       "       [0.44382802, 0.4426732 , 1.        , ..., 0.44885993, 0.3896747 ,\n",
       "        0.3363585 ],\n",
       "       [0.3310185 , 0.37929183, 0.35778782, ..., 0.34175825, 0.33844268,\n",
       "        0.4818653 ],\n",
       "       [0.3039711 , 0.3170577 , 0.33147633, ..., 0.521875  , 0.29923075,\n",
       "        0.29837704]], dtype=float32)"
      ]
     },
     "execution_count": 43,
     "metadata": {},
     "output_type": "execute_result"
    }
   ],
   "source": [
    "# each row is a drug (of the cellline-drug pair)\n",
    "# 3663 pairs, similarity to the 12 drugs\n",
    "print(S_train.shape)\n",
    "S_train"
   ]
  },
  {
   "cell_type": "code",
   "execution_count": 44,
   "id": "858816db",
   "metadata": {},
   "outputs": [
    {
     "name": "stdout",
     "output_type": "stream",
     "text": [
      "(3663,)\n"
     ]
    },
    {
     "data": {
      "text/plain": [
       "array([11,  3,  4, ...,  2,  7,  4])"
      ]
     },
     "execution_count": 44,
     "metadata": {},
     "output_type": "execute_result"
    }
   ],
   "source": [
    "# a vector of the indexes of the drugs\n",
    "print(I_train.shape)\n",
    "I_train"
   ]
  },
  {
   "cell_type": "code",
   "execution_count": 45,
   "id": "b7f4204b",
   "metadata": {},
   "outputs": [
    {
     "name": "stdout",
     "output_type": "stream",
     "text": [
      "(3663, 1)\n"
     ]
    },
    {
     "data": {
      "text/plain": [
       "array([[0],\n",
       "       [0],\n",
       "       [0],\n",
       "       ...,\n",
       "       [1],\n",
       "       [0],\n",
       "       [1]], dtype=uint8)"
      ]
     },
     "execution_count": 45,
     "metadata": {},
     "output_type": "execute_result"
    }
   ],
   "source": [
    "# the labels (resistant or sensitive)\n",
    "print(Y_train.shape)\n",
    "Y_train"
   ]
  },
  {
   "cell_type": "code",
   "execution_count": 46,
   "id": "7e1f98fb",
   "metadata": {},
   "outputs": [],
   "source": [
    "X_valid = dataset.make_xdata(idx_train_valid)\n",
    "S_valid = dataset.make_sdata(base_drugs, idx_train_valid)\n",
    "I_valid = dataset.make_idata(base_drugs, idx_train_valid)\n",
    "Y_valid = dataset.make_ydata(idx_train_valid)"
   ]
  },
  {
   "cell_type": "code",
   "execution_count": 47,
   "id": "e77829b1",
   "metadata": {},
   "outputs": [],
   "source": [
    "X_test = dataset.make_xdata(idx_test)\n",
    "S_test = dataset.make_sdata(base_drugs, idx_test)\n",
    "Y_test = dataset.make_ydata(idx_test)"
   ]
  },
  {
   "cell_type": "code",
   "execution_count": 48,
   "id": "ab764934",
   "metadata": {},
   "outputs": [],
   "source": [
    "checkpoint_dir = './temp'\n",
    "if not os.path.exists(checkpoint_dir):\n",
    "    os.mkdir(checkpoint_dir)\n",
    "checkpoint_path = \"RefDNN_cv_outer.ckpt\"\n",
    "checkpoint_path = os.path.join('./temp', checkpoint_path)"
   ]
  },
  {
   "cell_type": "markdown",
   "id": "eb3c62aa",
   "metadata": {},
   "source": [
    "### Create a model:"
   ]
  },
  {
   "cell_type": "code",
   "execution_count": 49,
   "id": "9f8013c5",
   "metadata": {},
   "outputs": [],
   "source": [
    "## 3-5) Create a model using the best parameters\n",
    "clf = REFDNN(hidden_units=BEST_HIDDEN_UNITS,\n",
    "             learning_rate_ftrl=BEST_LEARNING_RATE_FTRL,\n",
    "             learning_rate_adam=BEST_LEARNING_RATE_ADAM,\n",
    "             l1_regularization_strength=BEST_L1_REGULARIZATION_STRENGTH,\n",
    "             l2_regularization_strength=BEST_L2_REGULARIZATION_STRENGTH,\n",
    "             batch_size=batchsize,\n",
    "             training_steps=numtrainingsteps,\n",
    "             checkpoint_path=checkpoint_path)"
   ]
  },
  {
   "cell_type": "code",
   "execution_count": 50,
   "id": "6c088489",
   "metadata": {},
   "outputs": [
    {
     "name": "stdout",
     "output_type": "stream",
     "text": [
      "<refdnn.model.REFDNN object at 0x7f9d18d08668>\n"
     ]
    }
   ],
   "source": [
    "print(clf)"
   ]
  },
  {
   "cell_type": "markdown",
   "id": "0215af0f",
   "metadata": {},
   "source": [
    "### Fit a model:"
   ]
  },
  {
   "cell_type": "code",
   "execution_count": 51,
   "id": "2393ce7e",
   "metadata": {},
   "outputs": [
    {
     "name": "stdout",
     "output_type": "stream",
     "text": [
      "[RefDNN] [00100] LOSS_train=0.41091 | LOSS_valid=0.60444 | ACC_valid=0.872 | PRECISION_valid=0.862 | RECALL_valid=0.921 | (1.972 sec)\n",
      "[RefDNN] [CHECKPOINT] Model is saved in: ./temp/RefDNN_cv_outer.ckpt\n",
      "[RefDNN] [00200] LOSS_train=0.48195 | LOSS_valid=0.56305 | ACC_valid=0.896 | PRECISION_valid=0.870 | RECALL_valid=0.968 | (0.646 sec)\n",
      "[RefDNN] [CHECKPOINT] Model is saved in: ./temp/RefDNN_cv_outer.ckpt\n",
      "[RefDNN] [00300] LOSS_train=0.46646 | LOSS_valid=0.52509 | ACC_valid=0.895 | PRECISION_valid=0.867 | RECALL_valid=0.969 | (0.617 sec)\n",
      "[RefDNN] [CHECKPOINT] Model is saved in: ./temp/RefDNN_cv_outer.ckpt\n",
      "[RefDNN] [00400] LOSS_train=0.40961 | LOSS_valid=1.12804 | ACC_valid=0.854 | PRECISION_valid=0.814 | RECALL_valid=0.975 | (0.613 sec)\n",
      "[RefDNN] [00500] LOSS_train=0.20285 | LOSS_valid=1.13649 | ACC_valid=0.794 | PRECISION_valid=0.747 | RECALL_valid=0.981 | (0.551 sec)\n",
      "[RefDNN] [00600] LOSS_train=0.28100 | LOSS_valid=0.55395 | ACC_valid=0.756 | PRECISION_valid=0.711 | RECALL_valid=0.984 | (0.548 sec)\n",
      "[RefDNN] [00700] LOSS_train=0.24123 | LOSS_valid=0.54089 | ACC_valid=0.734 | PRECISION_valid=0.692 | RECALL_valid=0.987 | (0.542 sec)\n",
      "[RefDNN] [00800] LOSS_train=0.12826 | LOSS_valid=0.41043 | ACC_valid=0.733 | PRECISION_valid=0.691 | RECALL_valid=0.986 | (0.543 sec)\n",
      "[RefDNN] [CHECKPOINT] Model is saved in: ./temp/RefDNN_cv_outer.ckpt\n",
      "[RefDNN] [00900] LOSS_train=0.33714 | LOSS_valid=0.30094 | ACC_valid=0.746 | PRECISION_valid=0.703 | RECALL_valid=0.985 | (0.592 sec)\n",
      "[RefDNN] [CHECKPOINT] Model is saved in: ./temp/RefDNN_cv_outer.ckpt\n",
      "[RefDNN] [01000] LOSS_train=0.25220 | LOSS_valid=0.29620 | ACC_valid=0.762 | PRECISION_valid=0.717 | RECALL_valid=0.983 | (0.596 sec)\n",
      "[RefDNN] [CHECKPOINT] Model is saved in: ./temp/RefDNN_cv_outer.ckpt\n"
     ]
    }
   ],
   "source": [
    "## 3-6) Fit a model\n",
    "history = clf.fit(X_train, S_train, I_train, Y_train,\n",
    "                  X_valid, S_valid, I_valid, Y_valid,\n",
    "                  verbose=verbose)"
   ]
  },
  {
   "cell_type": "markdown",
   "id": "30423c46",
   "metadata": {},
   "source": [
    "# How exactly was the model trained?\n",
    "\n",
    "Let's look into some more details of the model here. Here I copy some code out from the RefDNN class."
   ]
  },
  {
   "cell_type": "code",
   "execution_count": 78,
   "id": "31ee6096",
   "metadata": {},
   "outputs": [],
   "source": [
    "# parameters\n",
    "hidden_units=BEST_HIDDEN_UNITS\n",
    "learning_rate_ftrl=BEST_LEARNING_RATE_FTRL\n",
    "learning_rate_adam=BEST_LEARNING_RATE_ADAM\n",
    "l1_regularization_strength=BEST_L1_REGULARIZATION_STRENGTH\n",
    "l2_regularization_strength=BEST_L2_REGULARIZATION_STRENGTH\n",
    "batch_size=batchsize\n",
    "training_steps=numtrainingsteps\n",
    "verbose=verbose\n",
    "\n",
    "## constant\n",
    "epsilon = 1e-5\n",
    "threshold = 0.5"
   ]
  },
  {
   "cell_type": "code",
   "execution_count": 79,
   "id": "96bd096b",
   "metadata": {},
   "outputs": [
    {
     "name": "stdout",
     "output_type": "stream",
     "text": [
      "(None, 18926)\n",
      "(None, 12)\n"
     ]
    }
   ],
   "source": [
    "## data information\n",
    "_X_shape = (None, X_train.shape[1]) # number of genes\n",
    "_S_shape = (None, S_train.shape[1]) # number of drugs\n",
    "\n",
    "print(_X_shape)\n",
    "print(_S_shape)"
   ]
  },
  {
   "cell_type": "markdown",
   "id": "222d4905",
   "metadata": {},
   "source": [
    "### Start a tensorflow session here:"
   ]
  },
  {
   "cell_type": "code",
   "execution_count": 80,
   "id": "2d9ab7b8",
   "metadata": {},
   "outputs": [],
   "source": [
    "## tf.Session\n",
    "#self._open_session()\n",
    "tf.reset_default_graph()\n",
    "sess = tf.Session()"
   ]
  },
  {
   "cell_type": "markdown",
   "id": "28677394",
   "metadata": {},
   "source": [
    "### prepare the placeholder and dataset"
   ]
  },
  {
   "cell_type": "code",
   "execution_count": 81,
   "id": "0c88443f",
   "metadata": {},
   "outputs": [],
   "source": [
    "## tf.placeholder\n",
    "X_train_PH = tf.placeholder(shape=_X_shape, dtype=tf.float32, name='X_train_PH')\n",
    "S_train_PH = tf.placeholder(shape=_S_shape, dtype=tf.float32, name='S_train_PH')\n",
    "I_train_PH = tf.placeholder(shape=(None,), dtype=tf.int32, name='I_train_PH')\n",
    "Y_train_PH = tf.placeholder(shape=(None,1), dtype=tf.uint8, name='Y_train_PH')\n",
    "\n",
    "X_valid_PH = tf.placeholder(shape=_X_shape, dtype=tf.float32, name='X_valid_PH')\n",
    "S_valid_PH = tf.placeholder(shape=_S_shape, dtype=tf.float32, name='S_valid_PH')\n",
    "I_valid_PH = tf.placeholder(shape=(None,), dtype=tf.int32, name='I_valid_PH')\n",
    "Y_valid_PH = tf.placeholder(shape=(None,1), dtype=tf.uint8, name='Y_valid_PH')"
   ]
  },
  {
   "cell_type": "code",
   "execution_count": 82,
   "id": "5d46bdf9",
   "metadata": {},
   "outputs": [
    {
     "data": {
      "text/plain": [
       "<tf.Tensor 'X_train_PH:0' shape=(?, 18926) dtype=float32>"
      ]
     },
     "execution_count": 82,
     "metadata": {},
     "output_type": "execute_result"
    }
   ],
   "source": [
    "X_train_PH"
   ]
  },
  {
   "cell_type": "code",
   "execution_count": 83,
   "id": "7ba7fb8b",
   "metadata": {},
   "outputs": [
    {
     "data": {
      "text/plain": [
       "<PrefetchDataset shapes: ((?, 18926), (?, 12), (?,), (?, 1)), types: (tf.float32, tf.float32, tf.int32, tf.uint8)>"
      ]
     },
     "execution_count": 83,
     "metadata": {},
     "output_type": "execute_result"
    }
   ],
   "source": [
    "## tf.dataset\n",
    "dataset_train = tf.data.Dataset.from_tensor_slices((X_train_PH, S_train_PH, I_train_PH, Y_train_PH))\n",
    "dataset_train = dataset_train.repeat()\n",
    "dataset_train = dataset_train.shuffle(buffer_size=10000, seed=2019)\n",
    "dataset_train = dataset_train.batch(batch_size, drop_remainder=False)\n",
    "dataset_train.prefetch(2 * batch_size)\n",
    "\n",
    "dataset_valid = tf.data.Dataset.from_tensor_slices((X_valid_PH, S_valid_PH, I_valid_PH, Y_valid_PH))\n",
    "dataset_valid = dataset_valid.repeat()\n",
    "dataset_valid = dataset_valid.batch(batch_size, drop_remainder=False)\n",
    "dataset_valid.prefetch(2 * batch_size)"
   ]
  },
  {
   "cell_type": "code",
   "execution_count": 84,
   "id": "7a46a85c",
   "metadata": {},
   "outputs": [
    {
     "data": {
      "text/plain": [
       "<BatchDataset shapes: ((?, 18926), (?, 12), (?,), (?, 1)), types: (tf.float32, tf.float32, tf.int32, tf.uint8)>"
      ]
     },
     "execution_count": 84,
     "metadata": {},
     "output_type": "execute_result"
    }
   ],
   "source": [
    "dataset_train"
   ]
  },
  {
   "cell_type": "markdown",
   "id": "d7282af3",
   "metadata": {},
   "source": [
    "### tf iterator"
   ]
  },
  {
   "cell_type": "code",
   "execution_count": 85,
   "id": "6e330bb0",
   "metadata": {},
   "outputs": [],
   "source": [
    "## tf.iterator\n",
    "iterator_train = dataset_train.make_initializable_iterator()\n",
    "iterator_valid = dataset_valid.make_initializable_iterator()\n",
    "_ = sess.run(iterator_train.initializer,\n",
    "                  feed_dict={X_train_PH:X_train,\n",
    "                             S_train_PH:S_train,\n",
    "                             I_train_PH:I_train,\n",
    "                             Y_train_PH:Y_train})\n",
    "_ = sess.run(iterator_valid.initializer,\n",
    "                  feed_dict={X_valid_PH:X_valid,\n",
    "                             S_valid_PH:S_valid,\n",
    "                             I_valid_PH:I_valid,\n",
    "                             Y_valid_PH:Y_valid})"
   ]
  },
  {
   "cell_type": "code",
   "execution_count": 86,
   "id": "e1de769e",
   "metadata": {},
   "outputs": [],
   "source": [
    "## tf.iterator.handle\n",
    "handle_train = sess.run(iterator_train.string_handle())\n",
    "handle_valid = sess.run(iterator_valid.string_handle())"
   ]
  },
  {
   "cell_type": "markdown",
   "id": "a319a635",
   "metadata": {},
   "source": [
    "### tf graph"
   ]
  },
  {
   "cell_type": "code",
   "execution_count": 87,
   "id": "1d6dbb95",
   "metadata": {},
   "outputs": [],
   "source": [
    "## tf.graph\n",
    "_output_types = dataset_train.output_types\n",
    "_output_shapes = dataset_train.output_shapes\n",
    "\n",
    "#create_graph()"
   ]
  },
  {
   "cell_type": "markdown",
   "id": "4ed22184",
   "metadata": {},
   "source": [
    "### Let's look at what's within the create_graph method of RefDNN!\n",
    "### Here we can see how the model is built: the layers in it, the loss function, and optimizers, etc.!"
   ]
  },
  {
   "cell_type": "code",
   "execution_count": 88,
   "id": "6c21aa33",
   "metadata": {},
   "outputs": [],
   "source": [
    "#def create_graph():\n",
    "## tf.Placeholder\n",
    "handle = tf.placeholder(tf.string, shape=[])\n",
    "training = tf.placeholder(dtype=bool, name='training_PH')\n",
    "\n",
    "## tf.Iterator\n",
    "iterator = tf.data.Iterator.from_string_handle(string_handle=handle,\n",
    "                                               output_types=_output_types,\n",
    "                                               output_shapes=_output_shapes)\n",
    "X_batch, S_batch, I_batch, Y_batch = iterator.get_next()\n",
    "\n",
    "## Activation function\n",
    "nonlinear = tf.nn.sigmoid\n",
    "\n",
    "## Model\n",
    "dense0    = tf.layers.dense(inputs=X_batch, units=_output_shapes[1][1].value, activation='linear', name='dense0')\n",
    "activate0 = nonlinear(dense0, name='activation0')\n",
    "\n",
    "dense1    = tf.layers.dense(inputs=tf.multiply(S_batch, activate0), units=hidden_units, activation='linear', name='dense1')\n",
    "bn1       = tf.layers.batch_normalization(dense1, training=training, name='bn1')\n",
    "activate1 = nonlinear(bn1, name='activation1')\n",
    "\n",
    "dense2    = tf.layers.dense(inputs=activate1, units=hidden_units, activation='linear', name='dense2')\n",
    "bn2       = tf.layers.batch_normalization(dense2, training=training, name='bn2')\n",
    "activate2 = nonlinear(bn2, name='activation2')\n",
    "\n",
    "## Output\n",
    "O_ELASTICNET  = tf.expand_dims(tf.reduce_sum(tf.multiply(dense0, tf.one_hot(I_batch, depth=_output_shapes[1][1].value)), 1), axis=-1)\n",
    "O_DNN = tf.layers.dense(inputs=activate2, units=1, activation='linear', name='output')\n",
    "\n",
    "## LOSS\n",
    "LOSS_ELASTICNET  = tf.reduce_mean(tf.nn.sigmoid_cross_entropy_with_logits(logits=O_ELASTICNET, labels=tf.cast(Y_batch, dtype=tf.float32)))\n",
    "LOSS_DNN = tf.reduce_mean(tf.nn.sigmoid_cross_entropy_with_logits(logits=O_DNN, labels=tf.cast(Y_batch, dtype=tf.float32)))\n",
    "LOSS = 0.5 * (LOSS_DNN + LOSS_ELASTICNET)\n",
    "\n",
    "## OPTIMIZER 1st\n",
    "OPT_ftrl = tf.train.FtrlOptimizer(learning_rate=learning_rate_ftrl,\n",
    "                                   l1_regularization_strength=l1_regularization_strength,\n",
    "                                   l2_regularization_strength=l2_regularization_strength)\n",
    "var_list_ftrl = tf.get_collection(tf.GraphKeys.TRAINABLE_VARIABLES, 'dense0')\n",
    "\n",
    "## OPTIMIZER 2nd\n",
    "OPT_adam = tf.train.AdamOptimizer(learning_rate=learning_rate_adam)\n",
    "var_list_adam = tf.get_collection(tf.GraphKeys.TRAINABLE_VARIABLES, 'dense1')\n",
    "var_list_adam += tf.get_collection(tf.GraphKeys.TRAINABLE_VARIABLES, 'dense2')\n",
    "var_list_adam += tf.get_collection(tf.GraphKeys.TRAINABLE_VARIABLES, 'output')\n",
    "var_list_adam += tf.get_collection(tf.GraphKeys.TRAINABLE_VARIABLES, 'batchnormalization1')\n",
    "var_list_adam += tf.get_collection(tf.GraphKeys.TRAINABLE_VARIABLES, 'batchnormalization2')\n",
    "\n",
    "## MINIMIZATION\n",
    "update_ops = tf.get_collection(tf.GraphKeys.UPDATE_OPS)\n",
    "with tf.control_dependencies(update_ops):\n",
    "    TRAIN_ftrl = OPT_ftrl.minimize(LOSS, var_list=var_list_ftrl)\n",
    "    TRAIN_adam = OPT_adam.minimize(LOSS, var_list=var_list_adam)\n",
    "\n",
    "## PREDICTION\n",
    "P_main = tf.sigmoid(O_DNN)\n",
    "Y_main = tf.cast(P_main > 0.5, tf.uint8)\n",
    "\n",
    "## ACCURACY\n",
    "ACCURACY = tf.metrics.accuracy(labels=Y_batch, predictions=Y_main)\n",
    "## PRECISION\n",
    "PRECISION = tf.metrics.precision(labels=Y_batch, predictions=Y_main)\n",
    "## RECALL\n",
    "RECALL = tf.metrics.recall(labels=Y_batch, predictions=Y_main)\n",
    "\n",
    "## SAVE AND RESTORE\n",
    "saver = tf.train.Saver()"
   ]
  },
  {
   "cell_type": "code",
   "execution_count": 89,
   "id": "dbf6f1ff",
   "metadata": {},
   "outputs": [],
   "source": [
    "sess.run(tf.global_variables_initializer())\n",
    "sess.run(tf.local_variables_initializer())"
   ]
  },
  {
   "cell_type": "code",
   "execution_count": 90,
   "id": "1ce0dbc9",
   "metadata": {},
   "outputs": [],
   "source": [
    "## history\n",
    "history = {\n",
    "    'train':{\n",
    "        'loss':[]\n",
    "    },\n",
    "    'valid':{\n",
    "        'loss':[],\n",
    "        'acc':[],\n",
    "        'precision':[],\n",
    "        'recall':[]\n",
    "    }\n",
    "}"
   ]
  },
  {
   "cell_type": "code",
   "execution_count": 91,
   "id": "a2e15896",
   "metadata": {},
   "outputs": [],
   "source": [
    "## initialization for early stopping\n",
    "earlystop_use=True\n",
    "if earlystop_use:\n",
    "    best_loss = np.Inf\n",
    "    best_step = 0\n",
    "    cnt_patience = 0"
   ]
  },
  {
   "cell_type": "code",
   "execution_count": 92,
   "id": "7dc376ec",
   "metadata": {},
   "outputs": [],
   "source": [
    "## initialize terminal conditions\n",
    "termination_convergence = False\n",
    "termination_earlystop = False"
   ]
  },
  {
   "cell_type": "code",
   "execution_count": 93,
   "id": "9d7884f3",
   "metadata": {},
   "outputs": [
    {
     "data": {
      "text/plain": [
       "1000"
      ]
     },
     "execution_count": 93,
     "metadata": {},
     "output_type": "execute_result"
    }
   ],
   "source": [
    "training_steps"
   ]
  },
  {
   "cell_type": "markdown",
   "id": "5b383118",
   "metadata": {},
   "source": [
    "There are 1000 training steps here. Let's just try one single trainning step:"
   ]
  },
  {
   "cell_type": "code",
   "execution_count": null,
   "id": "7a2ffa48",
   "metadata": {},
   "outputs": [],
   "source": [
    "## start fitting\n",
    "#start_time = time.time()\n",
    "#for step in range(1, training_steps+1):\n",
    "#for step in range(1, 1+1):\n",
    "\n",
    "# just look at one step:"
   ]
  },
  {
   "cell_type": "code",
   "execution_count": 94,
   "id": "d60226c1",
   "metadata": {},
   "outputs": [],
   "source": [
    "## 1) training \n",
    "_, _, loss_train = sess.run([TRAIN_ftrl, TRAIN_adam, LOSS],\n",
    "                                 feed_dict={handle:handle_train, training:True})"
   ]
  },
  {
   "cell_type": "code",
   "execution_count": 95,
   "id": "7da72c44",
   "metadata": {},
   "outputs": [
    {
     "data": {
      "text/plain": [
       "2.9284766"
      ]
     },
     "execution_count": 95,
     "metadata": {},
     "output_type": "execute_result"
    }
   ],
   "source": [
    "loss_train"
   ]
  },
  {
   "cell_type": "markdown",
   "id": "0f1662cf",
   "metadata": {},
   "source": [
    "We got the loss for this step!  \n",
    "We will skip the evaluation step here:"
   ]
  },
  {
   "cell_type": "code",
   "execution_count": null,
   "id": "c0044bf1",
   "metadata": {},
   "outputs": [],
   "source": [
    "# skip the evaluation step\n",
    "\n",
    "## 2) evaluation\n",
    "if step % evaluation_steps == 0:\n",
    "    ## 2-2) validation loss\n",
    "    loss_valid = 0.\n",
    "    acc_valid = 0.\n",
    "    precision_valid = 0.\n",
    "    recall_valid = 0.\n",
    "    n_batch_valid = math.ceil(len(X_valid) // batch_size)\n",
    "    for _ in range(n_batch_valid):\n",
    "        metrics_valid = sess.run([LOSS, ACCURACY, PRECISION, RECALL],\n",
    "                                      feed_dict={handle:handle_valid, training:False})\n",
    "        loss_valid += metrics_valid[0]\n",
    "        acc_valid += metrics_valid[1][0]\n",
    "        precision_valid += metrics_valid[2][0]\n",
    "        recall_valid += metrics_valid[3][0]\n",
    "    loss_valid /= n_batch_valid\n",
    "    acc_valid /= n_batch_valid\n",
    "    precision_valid /= n_batch_valid\n",
    "    recall_valid /= n_batch_valid\n",
    "\n",
    "    ## 2-3) store\n",
    "    history['train']['loss'].append((step, loss_train))\n",
    "    history['valid']['loss'].append((step, loss_valid))\n",
    "    history['valid']['acc'].append((step, acc_valid))\n",
    "    history['valid']['precision'].append((step, precision_valid))\n",
    "    history['valid']['recall'].append((step, recall_valid))\n",
    "\n",
    "    if verbose > 1:\n",
    "        end_time = time.time()\n",
    "        log = \"[RefDNN] [{:05d}] LOSS_train={:.5f} | LOSS_valid={:.5f}\".format(step, loss_train, loss_valid)\n",
    "        log += \" | ACC_valid={:.3f}\".format(acc_valid)\n",
    "        log += \" | PRECISION_valid={:.3f}\".format(precision_valid)\n",
    "        log += \" | RECALL_valid={:.3f}\".format(recall_valid)\n",
    "        log += \" | ({:.3f} sec)\".format(end_time-start_time)\n",
    "        print(log)\n",
    "        start_time = time.time()\n",
    "\n",
    "    ## 2-4) early stopping\n",
    "    if earlystop_use:\n",
    "        if loss_valid < best_loss:\n",
    "            best_loss = loss_valid\n",
    "            best_step = step\n",
    "            cnt_patience = 0\n",
    "            saver.save(sess, checkpoint_path)\n",
    "            if verbose > 1:\n",
    "                print(\"[RefDNN] [CHECKPOINT] Model is saved in: {}\".format(checkpoint_path))\n",
    "        elif cnt_patience < patience:\n",
    "            cnt_patience += 1\n",
    "        else:\n",
    "            termination_earlystop = True\n",
    "\n",
    "    else:\n",
    "        saver.save(sess, checkpoint_path)\n",
    "        if verbose > 1:\n",
    "            print(\"[RefDNN] [CHECKPOINT] Model is saved in: {}\".format(checkpoint_path))\n",
    "\n",
    "## 3) convergence\n",
    "if len(history['train']['loss']) > 1:\n",
    "    termination_convergence = abs(history['train']['loss'][-1][1] - history['train']['loss'][-2][1]) < epsilon\n",
    "\n",
    "## 4) termination\n",
    "#if termination_convergence or termination_earlystop:\n",
    "#    break"
   ]
  },
  {
   "cell_type": "markdown",
   "id": "0311e94f",
   "metadata": {},
   "source": [
    "### Close the session"
   ]
  },
  {
   "cell_type": "code",
   "execution_count": 98,
   "id": "8a7d8295",
   "metadata": {},
   "outputs": [],
   "source": [
    "## tf.Session\n",
    "#self._close_session()\n",
    "sess.close()"
   ]
  }
 ],
 "metadata": {
  "kernelspec": {
   "display_name": "deep-learning",
   "language": "python",
   "name": "deep-learning"
  },
  "language_info": {
   "codemirror_mode": {
    "name": "ipython",
    "version": 3
   },
   "file_extension": ".py",
   "mimetype": "text/x-python",
   "name": "python",
   "nbconvert_exporter": "python",
   "pygments_lexer": "ipython3",
   "version": "3.8.12"
  }
 },
 "nbformat": 4,
 "nbformat_minor": 5
}
