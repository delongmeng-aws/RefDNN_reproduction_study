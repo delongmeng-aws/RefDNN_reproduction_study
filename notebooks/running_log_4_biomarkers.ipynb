{
 "cells": [
  {
   "cell_type": "markdown",
   "id": "9e62c2e6",
   "metadata": {},
   "source": [
    "## CCLE  "
   ]
  },
  {
   "cell_type": "code",
   "execution_count": 1,
   "id": "12052034",
   "metadata": {},
   "outputs": [
    {
     "name": "stdout",
     "output_type": "stream",
     "text": [
      "[START]\n",
      "[TIME] [1] 2022-4-27 19:28:37\n",
      "[RefDNN] [CHECKPOINT] Model is restored from: output_1_CCLE_default/checkpoint/000_RefDNN_cv_outer.ckpt\n",
      "[TIME] [2] 2022-4-27 19:28:41\n",
      "[FINISH]\n"
     ]
    }
   ],
   "source": [
    "!python 4_biomarker_identification.py output_1_CCLE_default -o output_4_CCLE"
   ]
  },
  {
   "cell_type": "markdown",
   "id": "0ee1adc0",
   "metadata": {},
   "source": [
    "## GDSC"
   ]
  },
  {
   "cell_type": "code",
   "execution_count": null,
   "id": "6276bef8",
   "metadata": {},
   "outputs": [],
   "source": []
  },
  {
   "cell_type": "code",
   "execution_count": null,
   "id": "ef0818b8",
   "metadata": {},
   "outputs": [],
   "source": []
  }
 ],
 "metadata": {
  "kernelspec": {
   "display_name": "Python 3 (ipykernel)",
   "language": "python",
   "name": "python3"
  },
  "language_info": {
   "codemirror_mode": {
    "name": "ipython",
    "version": 3
   },
   "file_extension": ".py",
   "mimetype": "text/x-python",
   "name": "python",
   "nbconvert_exporter": "python",
   "pygments_lexer": "ipython3",
   "version": "3.7.9"
  }
 },
 "nbformat": 4,
 "nbformat_minor": 5
}
